{
 "cells": [
  {
   "cell_type": "code",
   "execution_count": 31,
   "metadata": {},
   "outputs": [
    {
     "name": "stdout",
     "output_type": "stream",
     "text": [
      "Enter row2\n",
      "Enter column2\n",
      "1\n",
      "2\n",
      "3\n",
      "4\n",
      "mat2\n",
      "5\n",
      "4\n",
      "3\n",
      "2\n",
      "[6, 6]\n",
      "[6, 6]\n"
     ]
    }
   ],
   "source": [
    "#1\n",
    "x=int(input('Enter row'))               #mat 1\n",
    "y=int(input('Enter column'))\n",
    "mat=[]\n",
    "for i in range(x):\n",
    "    temp=[]\n",
    "    for j in range(y):\n",
    "        temp.append(int(input()))\n",
    "    mat.append(temp)\n",
    "mat2=[]\n",
    "print('mat2')\n",
    "for i in range(x):               #mat2\n",
    "    temp=[]\n",
    "    for j in range(y):\n",
    "        temp.append(int(input()))\n",
    "    mat2.append(temp)\n",
    "result=[[0 for i in range(y)] for j in range(x)]\n",
    "for i in range(x):\n",
    "    for j in range(y):\n",
    "        result[i][j] = mat[i][j]+mat2[i][j]\n",
    "for r in result:\n",
    "    print(r)\n"
   ]
  },
  {
   "cell_type": "code",
   "execution_count": 35,
   "metadata": {},
   "outputs": [
    {
     "name": "stdout",
     "output_type": "stream",
     "text": [
      "[[ 59  42]\n",
      " [132  74]]\n"
     ]
    }
   ],
   "source": [
    "#3\n",
    "X=np.array([[3,5],[8,7]])\n",
    "Y=np.array([[13,4],[4,6]])\n",
    "print(X@Y)"
   ]
  },
  {
   "cell_type": "code",
   "execution_count": null,
   "metadata": {},
   "outputs": [],
   "source": [
    "#2\n",
    "import numpy as np\n",
    "x=np.array([[2,3,5,6],[6,7,8,4]])\n",
    "print(x)\n",
    "print(x.T)"
   ]
  },
  {
   "cell_type": "code",
   "execution_count": 42,
   "metadata": {},
   "outputs": [
    {
     "name": "stdout",
     "output_type": "stream",
     "text": [
      "Enter stingHii my name is sherin zwew qdfjg Ben\n",
      "['Ben', 'Hii', 'is', 'my', 'name', 'qdfjg', 'sherin', 'zwew']\n"
     ]
    }
   ],
   "source": [
    "#4\n",
    "x=input('Enter sting')\n",
    "y=x.split(' ')\n",
    "print(sorted(y))\n",
    "\n",
    "\n"
   ]
  },
  {
   "cell_type": "code",
   "execution_count": 57,
   "metadata": {},
   "outputs": [
    {
     "name": "stdout",
     "output_type": "stream",
     "text": [
      "Hi my name is sherin zwew qdfjg Ben\n"
     ]
    }
   ],
   "source": [
    "#5\n",
    "import string\n",
    "x='Hi!!!! my name() is s?[herin zwew qdfjg Ben'\n",
    "tem='' \n",
    "for i in x:\n",
    "    if i not in string.punctuation:\n",
    "        tem+=i\n",
    "print(tem)\n"
   ]
  },
  {
   "cell_type": "code",
   "execution_count": null,
   "metadata": {},
   "outputs": [],
   "source": []
  }
 ],
 "metadata": {
  "kernelspec": {
   "display_name": "Python 3",
   "language": "python",
   "name": "python3"
  },
  "language_info": {
   "codemirror_mode": {
    "name": "ipython",
    "version": 3
   },
   "file_extension": ".py",
   "mimetype": "text/x-python",
   "name": "python",
   "nbconvert_exporter": "python",
   "pygments_lexer": "ipython3",
   "version": "3.8.3"
  }
 },
 "nbformat": 4,
 "nbformat_minor": 4
}
